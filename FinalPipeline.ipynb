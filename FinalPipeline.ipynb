{
  "cells": [
    {
      "cell_type": "code",
      "execution_count": 1,
      "metadata": {
        "colab": {
          "base_uri": "https://localhost:8080/"
        },
        "id": "r_qQANaEZets",
        "outputId": "61bbeffb-0e8c-46df-812c-53e87bc84b91"
      },
      "outputs": [
        {
          "output_type": "stream",
          "name": "stdout",
          "text": [
            "/content/drive/MyDrive/SpecialProblems/LaneDetection\n"
          ]
        }
      ],
      "source": [
        "%cd /content/drive/MyDrive/SpecialProblems/LaneDetection"
      ]
    },
    {
      "cell_type": "code",
      "execution_count": null,
      "metadata": {
        "colab": {
          "base_uri": "https://localhost:8080/"
        },
        "id": "RbAzUESGuGRm",
        "outputId": "1856887d-ca55-4f28-9847-a0b1aa80b507"
      },
      "outputs": [
        {
          "name": "stdout",
          "output_type": "stream",
          "text": [
            "Cloning into 'lanedet'...\n",
            "remote: Enumerating objects: 499, done.\u001b[K\n",
            "remote: Counting objects: 100% (32/32), done.\u001b[K\n",
            "remote: Compressing objects: 100% (8/8), done.\u001b[K\n",
            "remote: Total 499 (delta 25), reused 24 (delta 24), pack-reused 467\u001b[K\n",
            "Receiving objects: 100% (499/499), 376.91 KiB | 3.09 MiB/s, done.\n",
            "Resolving deltas: 100% (260/260), done.\n"
          ]
        }
      ],
      "source": [
        "!git clone https://github.com/turoad/lanedet.git"
      ]
    },
    {
      "cell_type": "code",
      "execution_count": 2,
      "metadata": {
        "colab": {
          "base_uri": "https://localhost:8080/"
        },
        "id": "6K77rX9wuflV",
        "outputId": "a3a4459a-4c38-46c8-dec4-df1390df9184"
      },
      "outputs": [
        {
          "output_type": "stream",
          "name": "stdout",
          "text": [
            "/content/drive/MyDrive/SpecialProblems/LaneDetection/lanedet\n"
          ]
        }
      ],
      "source": [
        "%cd lanedet/"
      ]
    },
    {
      "cell_type": "markdown",
      "metadata": {
        "id": "yaxWaxEjDE1u"
      },
      "source": [
        "#Lane detection setup"
      ]
    },
    {
      "cell_type": "markdown",
      "source": [
        "First you need to set the Python version to 3.8 in Google Colab"
      ],
      "metadata": {
        "id": "lBzebuaDMfyP"
      }
    },
    {
      "cell_type": "code",
      "source": [
        "!sudo apt-get install python3.9"
      ],
      "metadata": {
        "colab": {
          "base_uri": "https://localhost:8080/"
        },
        "id": "QyFYFGTL0Gca",
        "outputId": "072643d0-9022-41ae-b10f-87153eaa5e41"
      },
      "execution_count": null,
      "outputs": [
        {
          "output_type": "stream",
          "name": "stdout",
          "text": [
            "Reading package lists... Done\n",
            "Building dependency tree       \n",
            "Reading state information... Done\n",
            "The following additional packages will be installed:\n",
            "  libpython3.9-minimal libpython3.9-stdlib python3.9-minimal\n",
            "Suggested packages:\n",
            "  python3.9-venv binfmt-support\n",
            "The following NEW packages will be installed:\n",
            "  libpython3.9-minimal libpython3.9-stdlib python3.9 python3.9-minimal\n",
            "0 upgraded, 4 newly installed, 0 to remove and 24 not upgraded.\n",
            "Need to get 5,023 kB of archives.\n",
            "After this operation, 19.7 MB of additional disk space will be used.\n",
            "Get:1 http://ppa.launchpad.net/deadsnakes/ppa/ubuntu focal/main amd64 libpython3.9-minimal amd64 3.9.16-1+focal1 [804 kB]\n",
            "Get:2 http://ppa.launchpad.net/deadsnakes/ppa/ubuntu focal/main amd64 python3.9-minimal amd64 3.9.16-1+focal1 [2,062 kB]\n",
            "Get:3 http://ppa.launchpad.net/deadsnakes/ppa/ubuntu focal/main amd64 libpython3.9-stdlib amd64 3.9.16-1+focal1 [1,662 kB]\n",
            "Get:4 http://ppa.launchpad.net/deadsnakes/ppa/ubuntu focal/main amd64 python3.9 amd64 3.9.16-1+focal1 [495 kB]\n",
            "Fetched 5,023 kB in 4s (1,412 kB/s)\n",
            "debconf: unable to initialize frontend: Dialog\n",
            "debconf: (No usable dialog-like program is installed, so the dialog based frontend cannot be used. at /usr/share/perl5/Debconf/FrontEnd/Dialog.pm line 76, <> line 4.)\n",
            "debconf: falling back to frontend: Readline\n",
            "debconf: unable to initialize frontend: Readline\n",
            "debconf: (This frontend requires a controlling tty.)\n",
            "debconf: falling back to frontend: Teletype\n",
            "dpkg-preconfigure: unable to re-open stdin: \n",
            "Selecting previously unselected package libpython3.9-minimal:amd64.\n",
            "(Reading database ... 122882 files and directories currently installed.)\n",
            "Preparing to unpack .../libpython3.9-minimal_3.9.16-1+focal1_amd64.deb ...\n",
            "Unpacking libpython3.9-minimal:amd64 (3.9.16-1+focal1) ...\n",
            "Selecting previously unselected package python3.9-minimal.\n",
            "Preparing to unpack .../python3.9-minimal_3.9.16-1+focal1_amd64.deb ...\n",
            "Unpacking python3.9-minimal (3.9.16-1+focal1) ...\n",
            "Selecting previously unselected package libpython3.9-stdlib:amd64.\n",
            "Preparing to unpack .../libpython3.9-stdlib_3.9.16-1+focal1_amd64.deb ...\n",
            "Unpacking libpython3.9-stdlib:amd64 (3.9.16-1+focal1) ...\n",
            "Selecting previously unselected package python3.9.\n",
            "Preparing to unpack .../python3.9_3.9.16-1+focal1_amd64.deb ...\n",
            "Unpacking python3.9 (3.9.16-1+focal1) ...\n",
            "Setting up libpython3.9-minimal:amd64 (3.9.16-1+focal1) ...\n",
            "Setting up python3.9-minimal (3.9.16-1+focal1) ...\n",
            "Setting up libpython3.9-stdlib:amd64 (3.9.16-1+focal1) ...\n",
            "Setting up python3.9 (3.9.16-1+focal1) ...\n",
            "Processing triggers for man-db (2.9.1-1) ...\n",
            "Processing triggers for mime-support (3.64ubuntu1) ...\n"
          ]
        }
      ]
    },
    {
      "cell_type": "code",
      "source": [
        "!sudo update-alternatives --install /usr/bin/python3 python3 /usr/bin/python3.8 1"
      ],
      "metadata": {
        "id": "j3fe1ywyfzm5"
      },
      "execution_count": 3,
      "outputs": []
    },
    {
      "cell_type": "code",
      "source": [
        "!sudo update-alternatives --config python3"
      ],
      "metadata": {
        "colab": {
          "base_uri": "https://localhost:8080/"
        },
        "id": "KkuaDgIggmIj",
        "outputId": "8c0e4304-6015-4d96-89a9-1bcfe820c3ca"
      },
      "execution_count": 4,
      "outputs": [
        {
          "output_type": "stream",
          "name": "stdout",
          "text": [
            "There are 2 choices for the alternative python3 (providing /usr/bin/python3).\n",
            "\n",
            "  Selection    Path                 Priority   Status\n",
            "------------------------------------------------------------\n",
            "* 0            /usr/bin/python3.10   2         auto mode\n",
            "  1            /usr/bin/python3.10   2         manual mode\n",
            "  2            /usr/bin/python3.8    1         manual mode\n",
            "\n",
            "Press <enter> to keep the current choice[*], or type selection number: 2\n",
            "update-alternatives: using /usr/bin/python3.8 to provide /usr/bin/python3 (python3) in manual mode\n"
          ]
        }
      ]
    },
    {
      "cell_type": "code",
      "source": [
        "!python --version"
      ],
      "metadata": {
        "colab": {
          "base_uri": "https://localhost:8080/"
        },
        "id": "dnaEJ4-NgtBI",
        "outputId": "48c853f4-6351-48dd-ecba-af4df05e30ad"
      },
      "execution_count": 5,
      "outputs": [
        {
          "output_type": "stream",
          "name": "stdout",
          "text": [
            "Python 3.8.10\n"
          ]
        }
      ]
    },
    {
      "cell_type": "code",
      "source": [
        "!sudo apt install python3-pip"
      ],
      "metadata": {
        "colab": {
          "base_uri": "https://localhost:8080/"
        },
        "id": "-pUjuEOug1aG",
        "outputId": "a79a13b8-c2e9-4df4-ef40-f6c2d95bc758"
      },
      "execution_count": 6,
      "outputs": [
        {
          "output_type": "stream",
          "name": "stdout",
          "text": [
            "Reading package lists... Done\n",
            "Building dependency tree       \n",
            "Reading state information... Done\n",
            "The following additional packages will be installed:\n",
            "  python-pip-whl python3-setuptools python3-wheel\n",
            "Suggested packages:\n",
            "  python-setuptools-doc\n",
            "The following NEW packages will be installed:\n",
            "  python-pip-whl python3-pip python3-setuptools python3-wheel\n",
            "0 upgraded, 4 newly installed, 0 to remove and 24 not upgraded.\n",
            "Need to get 2,389 kB of archives.\n",
            "After this operation, 4,933 kB of additional disk space will be used.\n",
            "Get:1 http://archive.ubuntu.com/ubuntu focal-updates/universe amd64 python-pip-whl all 20.0.2-5ubuntu1.8 [1,805 kB]\n",
            "Get:2 http://archive.ubuntu.com/ubuntu focal-updates/main amd64 python3-setuptools all 45.2.0-1ubuntu0.1 [330 kB]\n",
            "Get:3 http://archive.ubuntu.com/ubuntu focal-updates/universe amd64 python3-wheel all 0.34.2-1ubuntu0.1 [23.9 kB]\n",
            "Get:4 http://archive.ubuntu.com/ubuntu focal-updates/universe amd64 python3-pip all 20.0.2-5ubuntu1.8 [231 kB]\n",
            "Fetched 2,389 kB in 0s (4,997 kB/s)\n",
            "debconf: unable to initialize frontend: Dialog\n",
            "debconf: (No usable dialog-like program is installed, so the dialog based frontend cannot be used. at /usr/share/perl5/Debconf/FrontEnd/Dialog.pm line 76, <> line 4.)\n",
            "debconf: falling back to frontend: Readline\n",
            "debconf: unable to initialize frontend: Readline\n",
            "debconf: (This frontend requires a controlling tty.)\n",
            "debconf: falling back to frontend: Teletype\n",
            "dpkg-preconfigure: unable to re-open stdin: \n",
            "Selecting previously unselected package python-pip-whl.\n",
            "(Reading database ... 122518 files and directories currently installed.)\n",
            "Preparing to unpack .../python-pip-whl_20.0.2-5ubuntu1.8_all.deb ...\n",
            "Unpacking python-pip-whl (20.0.2-5ubuntu1.8) ...\n",
            "Selecting previously unselected package python3-setuptools.\n",
            "Preparing to unpack .../python3-setuptools_45.2.0-1ubuntu0.1_all.deb ...\n",
            "Unpacking python3-setuptools (45.2.0-1ubuntu0.1) ...\n",
            "Selecting previously unselected package python3-wheel.\n",
            "Preparing to unpack .../python3-wheel_0.34.2-1ubuntu0.1_all.deb ...\n",
            "Unpacking python3-wheel (0.34.2-1ubuntu0.1) ...\n",
            "Selecting previously unselected package python3-pip.\n",
            "Preparing to unpack .../python3-pip_20.0.2-5ubuntu1.8_all.deb ...\n",
            "Unpacking python3-pip (20.0.2-5ubuntu1.8) ...\n",
            "Setting up python3-setuptools (45.2.0-1ubuntu0.1) ...\n",
            "Setting up python3-wheel (0.34.2-1ubuntu0.1) ...\n",
            "Setting up python-pip-whl (20.0.2-5ubuntu1.8) ...\n",
            "Setting up python3-pip (20.0.2-5ubuntu1.8) ...\n",
            "Processing triggers for man-db (2.9.1-1) ...\n"
          ]
        }
      ]
    },
    {
      "cell_type": "code",
      "source": [
        "!pip install -U setuptools\n",
        "!pip install addict\n",
        "!pip install pathos\n",
        "!pip install imutils\n",
        "!pip install scikit-learn"
      ],
      "metadata": {
        "colab": {
          "base_uri": "https://localhost:8080/",
          "height": 1000
        },
        "id": "zhAQJyFEtqaj",
        "outputId": "619c9f1c-e870-492f-c4da-c4bcc4b58cae"
      },
      "execution_count": 8,
      "outputs": [
        {
          "output_type": "stream",
          "name": "stdout",
          "text": [
            "Looking in indexes: https://pypi.org/simple, https://us-python.pkg.dev/colab-wheels/public/simple/\n",
            "Collecting setuptools\n",
            "  Downloading setuptools-67.7.2-py3-none-any.whl (1.1 MB)\n",
            "\u001b[K     |████████████████████████████████| 1.1 MB 4.3 MB/s \n",
            "\u001b[?25hInstalling collected packages: setuptools\n",
            "  Attempting uninstall: setuptools\n",
            "    Found existing installation: setuptools 45.2.0\n",
            "    Not uninstalling setuptools at /usr/lib/python3/dist-packages, outside environment /usr\n",
            "    Can't uninstall 'setuptools'. No files were found to uninstall.\n",
            "Successfully installed setuptools-67.7.2\n"
          ]
        },
        {
          "output_type": "display_data",
          "data": {
            "application/vnd.colab-display-data+json": {
              "pip_warning": {
                "packages": [
                  "pkg_resources"
                ]
              }
            }
          },
          "metadata": {}
        },
        {
          "output_type": "stream",
          "name": "stdout",
          "text": [
            "Looking in indexes: https://pypi.org/simple, https://us-python.pkg.dev/colab-wheels/public/simple/\n",
            "Collecting addict\n",
            "  Using cached addict-2.4.0-py3-none-any.whl (3.8 kB)\n",
            "Installing collected packages: addict\n",
            "Successfully installed addict-2.4.0\n",
            "Looking in indexes: https://pypi.org/simple, https://us-python.pkg.dev/colab-wheels/public/simple/\n",
            "Collecting pathos\n",
            "  Downloading pathos-0.3.0-py3-none-any.whl (79 kB)\n",
            "\u001b[K     |████████████████████████████████| 79 kB 3.8 MB/s \n",
            "\u001b[?25hCollecting multiprocess>=0.70.14\n",
            "  Downloading multiprocess-0.70.14-py38-none-any.whl (132 kB)\n",
            "\u001b[K     |████████████████████████████████| 132 kB 41.9 MB/s \n",
            "\u001b[?25hCollecting pox>=0.3.2\n",
            "  Downloading pox-0.3.2-py3-none-any.whl (29 kB)\n",
            "Collecting ppft>=1.7.6.6\n",
            "  Downloading ppft-1.7.6.6-py3-none-any.whl (52 kB)\n",
            "\u001b[K     |████████████████████████████████| 52 kB 1.5 MB/s \n",
            "\u001b[?25hCollecting dill>=0.3.6\n",
            "  Downloading dill-0.3.6-py3-none-any.whl (110 kB)\n",
            "\u001b[K     |████████████████████████████████| 110 kB 75.3 MB/s \n",
            "\u001b[?25hInstalling collected packages: dill, multiprocess, pox, ppft, pathos\n",
            "Successfully installed dill-0.3.6 multiprocess-0.70.14 pathos-0.3.0 pox-0.3.2 ppft-1.7.6.6\n",
            "Looking in indexes: https://pypi.org/simple, https://us-python.pkg.dev/colab-wheels/public/simple/\n",
            "Collecting imutils\n",
            "  Downloading imutils-0.5.4.tar.gz (17 kB)\n",
            "Building wheels for collected packages: imutils\n",
            "  Building wheel for imutils (setup.py) ... \u001b[?25l\u001b[?25hdone\n",
            "  Created wheel for imutils: filename=imutils-0.5.4-py3-none-any.whl size=25858 sha256=8454824701f1ca4963c7d1a3330d889c7a2ebd9902da2cd3ffe3e2b052535d1d\n",
            "  Stored in directory: /root/.cache/pip/wheels/59/1b/52/0dea905f8278d5514dc4d0be5e251967f8681670cadd3dca89\n",
            "Successfully built imutils\n",
            "Installing collected packages: imutils\n",
            "Successfully installed imutils-0.5.4\n",
            "Looking in indexes: https://pypi.org/simple, https://us-python.pkg.dev/colab-wheels/public/simple/\n",
            "Collecting scikit-learn\n",
            "  Downloading scikit_learn-1.2.2-cp38-cp38-manylinux_2_17_x86_64.manylinux2014_x86_64.whl (9.8 MB)\n",
            "\u001b[K     |████████████████████████████████| 9.8 MB 5.4 MB/s \n",
            "\u001b[?25hCollecting scipy>=1.3.2\n",
            "  Downloading scipy-1.10.1-cp38-cp38-manylinux_2_17_x86_64.manylinux2014_x86_64.whl (34.5 MB)\n",
            "\u001b[K     |████████████████████████████████| 34.5 MB 40 kB/s \n",
            "\u001b[?25hCollecting joblib>=1.1.1\n",
            "  Downloading joblib-1.2.0-py3-none-any.whl (297 kB)\n",
            "\u001b[K     |████████████████████████████████| 297 kB 70.1 MB/s \n",
            "\u001b[?25hCollecting numpy>=1.17.3\n",
            "  Downloading numpy-1.24.3-cp38-cp38-manylinux_2_17_x86_64.manylinux2014_x86_64.whl (17.3 MB)\n",
            "\u001b[K     |████████████████████████████████| 17.3 MB 434 kB/s \n",
            "\u001b[?25hCollecting threadpoolctl>=2.0.0\n",
            "  Downloading threadpoolctl-3.1.0-py3-none-any.whl (14 kB)\n",
            "Installing collected packages: numpy, scipy, joblib, threadpoolctl, scikit-learn\n",
            "Successfully installed joblib-1.2.0 numpy-1.24.3 scikit-learn-1.2.2 scipy-1.10.1 threadpoolctl-3.1.0\n"
          ]
        }
      ]
    },
    {
      "cell_type": "code",
      "source": [
        "!pip install -r requirements.txt"
      ],
      "metadata": {
        "colab": {
          "base_uri": "https://localhost:8080/",
          "height": 1000
        },
        "id": "QhNW8E62lRsW",
        "outputId": "e94057fd-a211-4669-cf32-553300a7c7ac"
      },
      "execution_count": 10,
      "outputs": [
        {
          "output_type": "stream",
          "name": "stdout",
          "text": [
            "Looking in indexes: https://pypi.org/simple, https://us-python.pkg.dev/colab-wheels/public/simple/\n",
            "Collecting pandas\n",
            "  Using cached pandas-2.0.1-cp38-cp38-manylinux_2_17_x86_64.manylinux2014_x86_64.whl (12.3 MB)\n",
            "Requirement already satisfied: addict in /usr/local/lib/python3.8/dist-packages (from -r requirements.txt (line 2)) (2.4.0)\n",
            "Collecting sklearn\n",
            "  Using cached sklearn-0.0.post4.tar.gz (3.6 kB)\n",
            "Collecting opencv-python\n",
            "  Downloading opencv_python-4.7.0.72-cp37-abi3-manylinux_2_17_x86_64.manylinux2014_x86_64.whl (61.8 MB)\n",
            "\u001b[K     |████████████████████████████████| 61.8 MB 1.2 MB/s \n",
            "\u001b[?25hCollecting pytorch_warmup\n",
            "  Downloading pytorch_warmup-0.1.1-py3-none-any.whl (6.6 kB)\n",
            "Collecting scikit-image\n",
            "  Downloading scikit_image-0.20.0-cp38-cp38-manylinux_2_17_x86_64.manylinux2014_x86_64.whl (13.4 MB)\n",
            "\u001b[K     |████████████████████████████████| 13.4 MB 57.2 MB/s \n",
            "\u001b[?25hCollecting tqdm\n",
            "  Downloading tqdm-4.65.0-py3-none-any.whl (77 kB)\n",
            "\u001b[K     |████████████████████████████████| 77 kB 4.8 MB/s \n",
            "\u001b[?25hCollecting p_tqdm\n",
            "  Downloading p_tqdm-1.4.0.tar.gz (5.2 kB)\n",
            "Collecting imgaug>=0.4.0\n",
            "  Downloading imgaug-0.4.0-py2.py3-none-any.whl (948 kB)\n",
            "\u001b[K     |████████████████████████████████| 948 kB 48.3 MB/s \n",
            "\u001b[?25hCollecting Shapely==1.7.0\n",
            "  Downloading Shapely-1.7.0-cp38-cp38-manylinux1_x86_64.whl (1.8 MB)\n",
            "\u001b[K     |████████████████████████████████| 1.8 MB 54.2 MB/s \n",
            "\u001b[?25hCollecting ujson==1.35\n",
            "  Downloading ujson-1.35.tar.gz (192 kB)\n",
            "\u001b[K     |████████████████████████████████| 192 kB 33.3 MB/s \n",
            "\u001b[?25hCollecting yapf\n",
            "  Downloading yapf-0.33.0-py2.py3-none-any.whl (200 kB)\n",
            "\u001b[K     |████████████████████████████████| 200 kB 66.5 MB/s \n",
            "\u001b[?25hCollecting albumentations==0.4.6\n",
            "  Downloading albumentations-0.4.6.tar.gz (117 kB)\n",
            "\u001b[K     |████████████████████████████████| 117 kB 76.4 MB/s \n",
            "\u001b[?25hCollecting mmcv==1.2.5\n",
            "  Downloading mmcv-1.2.5.tar.gz (222 kB)\n",
            "\u001b[K     |████████████████████████████████| 222 kB 67.6 MB/s \n",
            "\u001b[?25hCollecting pathspec\n",
            "  Downloading pathspec-0.11.1-py3-none-any.whl (29 kB)\n",
            "Requirement already satisfied: numpy>=1.20.3; python_version < \"3.10\" in /usr/local/lib/python3.8/dist-packages (from pandas->-r requirements.txt (line 1)) (1.24.3)\n",
            "Collecting tzdata>=2022.1\n",
            "  Downloading tzdata-2023.3-py2.py3-none-any.whl (341 kB)\n",
            "\u001b[K     |████████████████████████████████| 341 kB 58.7 MB/s \n",
            "\u001b[?25hCollecting python-dateutil>=2.8.2\n",
            "  Downloading python_dateutil-2.8.2-py2.py3-none-any.whl (247 kB)\n",
            "\u001b[K     |████████████████████████████████| 247 kB 61.2 MB/s \n",
            "\u001b[?25hCollecting pytz>=2020.1\n",
            "  Downloading pytz-2023.3-py2.py3-none-any.whl (502 kB)\n",
            "\u001b[K     |████████████████████████████████| 502 kB 55.5 MB/s \n",
            "\u001b[?25hRequirement already satisfied: torch>=1.1 in /usr/local/lib/python3.8/dist-packages (from pytorch_warmup->-r requirements.txt (line 5)) (1.8.0+cu111)\n",
            "Requirement already satisfied: pillow>=9.0.1 in /usr/local/lib/python3.8/dist-packages (from scikit-image->-r requirements.txt (line 6)) (9.5.0)\n",
            "Collecting PyWavelets>=1.1.1\n",
            "  Downloading PyWavelets-1.4.1-cp38-cp38-manylinux_2_17_x86_64.manylinux2014_x86_64.whl (6.9 MB)\n",
            "\u001b[K     |████████████████████████████████| 6.9 MB 53.9 MB/s \n",
            "\u001b[?25hCollecting packaging>=20.0\n",
            "  Downloading packaging-23.1-py3-none-any.whl (48 kB)\n",
            "\u001b[K     |████████████████████████████████| 48 kB 5.8 MB/s \n",
            "\u001b[?25hCollecting tifffile>=2019.7.26\n",
            "  Downloading tifffile-2023.4.12-py3-none-any.whl (219 kB)\n",
            "\u001b[K     |████████████████████████████████| 219 kB 66.7 MB/s \n",
            "\u001b[?25hCollecting scipy<1.9.2,>=1.8; python_version <= \"3.9\"\n",
            "  Downloading scipy-1.9.1-cp38-cp38-manylinux_2_17_x86_64.manylinux2014_x86_64.whl (43.4 MB)\n",
            "\u001b[K     |████████████████████████████████| 43.4 MB 1.2 MB/s \n",
            "\u001b[?25hCollecting imageio>=2.4.1\n",
            "  Downloading imageio-2.28.1-py3-none-any.whl (3.4 MB)\n",
            "\u001b[K     |████████████████████████████████| 3.4 MB 59.1 MB/s \n",
            "\u001b[?25hCollecting networkx>=2.8\n",
            "  Downloading networkx-3.1-py3-none-any.whl (2.1 MB)\n",
            "\u001b[K     |████████████████████████████████| 2.1 MB 56.0 MB/s \n",
            "\u001b[?25hCollecting lazy_loader>=0.1\n",
            "  Downloading lazy_loader-0.2-py3-none-any.whl (8.6 kB)\n",
            "Requirement already satisfied: pathos>=0.2.5 in /usr/local/lib/python3.8/dist-packages (from p_tqdm->-r requirements.txt (line 8)) (0.3.0)\n",
            "Collecting six>=1.13.0\n",
            "  Downloading six-1.16.0-py2.py3-none-any.whl (11 kB)\n",
            "Collecting matplotlib\n",
            "  Downloading matplotlib-3.7.1-cp38-cp38-manylinux_2_12_x86_64.manylinux2010_x86_64.whl (9.2 MB)\n",
            "\u001b[K     |████████████████████████████████| 9.2 MB 67.6 MB/s \n",
            "\u001b[?25hCollecting tomli>=2.0.1\n",
            "  Downloading tomli-2.0.1-py3-none-any.whl (12 kB)\n",
            "Collecting PyYAML\n",
            "  Downloading PyYAML-6.0-cp38-cp38-manylinux_2_5_x86_64.manylinux1_x86_64.manylinux_2_12_x86_64.manylinux2010_x86_64.whl (701 kB)\n",
            "\u001b[K     |████████████████████████████████| 701 kB 53.3 MB/s \n",
            "\u001b[?25hCollecting opencv-python-headless>=4.1.1\n",
            "  Downloading opencv_python_headless-4.7.0.72-cp37-abi3-manylinux_2_17_x86_64.manylinux2014_x86_64.whl (49.2 MB)\n",
            "\u001b[K     |████████████████████████████████| 49.2 MB 1.5 MB/s \n",
            "\u001b[?25hRequirement already satisfied: typing-extensions in /usr/local/lib/python3.8/dist-packages (from torch>=1.1->pytorch_warmup->-r requirements.txt (line 5)) (4.5.0)\n",
            "Requirement already satisfied: multiprocess>=0.70.14 in /usr/local/lib/python3.8/dist-packages (from pathos>=0.2.5->p_tqdm->-r requirements.txt (line 8)) (0.70.14)\n",
            "Requirement already satisfied: ppft>=1.7.6.6 in /usr/local/lib/python3.8/dist-packages (from pathos>=0.2.5->p_tqdm->-r requirements.txt (line 8)) (1.7.6.6)\n",
            "Requirement already satisfied: dill>=0.3.6 in /usr/local/lib/python3.8/dist-packages (from pathos>=0.2.5->p_tqdm->-r requirements.txt (line 8)) (0.3.6)\n",
            "Requirement already satisfied: pox>=0.3.2 in /usr/local/lib/python3.8/dist-packages (from pathos>=0.2.5->p_tqdm->-r requirements.txt (line 8)) (0.3.2)\n",
            "Collecting kiwisolver>=1.0.1\n",
            "  Downloading kiwisolver-1.4.4-cp38-cp38-manylinux_2_5_x86_64.manylinux1_x86_64.whl (1.2 MB)\n",
            "\u001b[K     |████████████████████████████████| 1.2 MB 62.5 MB/s \n",
            "\u001b[?25hCollecting importlib-resources>=3.2.0; python_version < \"3.10\"\n",
            "  Downloading importlib_resources-5.12.0-py3-none-any.whl (36 kB)\n",
            "Collecting fonttools>=4.22.0\n",
            "  Downloading fonttools-4.39.3-py3-none-any.whl (1.0 MB)\n",
            "\u001b[K     |████████████████████████████████| 1.0 MB 57.2 MB/s \n",
            "\u001b[?25hCollecting cycler>=0.10\n",
            "  Downloading cycler-0.11.0-py3-none-any.whl (6.4 kB)\n",
            "Collecting contourpy>=1.0.1\n",
            "  Downloading contourpy-1.0.7-cp38-cp38-manylinux_2_17_x86_64.manylinux2014_x86_64.whl (300 kB)\n",
            "\u001b[K     |████████████████████████████████| 300 kB 70.7 MB/s \n",
            "\u001b[?25hCollecting pyparsing>=2.3.1\n",
            "  Downloading pyparsing-3.0.9-py3-none-any.whl (98 kB)\n",
            "\u001b[K     |████████████████████████████████| 98 kB 7.6 MB/s \n",
            "\u001b[?25hCollecting zipp>=3.1.0; python_version < \"3.10\"\n",
            "  Downloading zipp-3.15.0-py3-none-any.whl (6.8 kB)\n",
            "Building wheels for collected packages: sklearn, p-tqdm, ujson, albumentations, mmcv\n",
            "  Building wheel for sklearn (setup.py) ... \u001b[?25l\u001b[?25hdone\n",
            "  Created wheel for sklearn: filename=sklearn-0.0.post4-py3-none-any.whl size=2972 sha256=740bf8c324dea4fdcee13ce79c3aee28bd6e12693e094b6d87bfef2a396fa595\n",
            "  Stored in directory: /root/.cache/pip/wheels/84/3f/80/e49971719e76c0387733de7973744b4b19b01dc14afcce8829\n",
            "  Building wheel for p-tqdm (setup.py) ... \u001b[?25l\u001b[?25hdone\n",
            "  Created wheel for p-tqdm: filename=p_tqdm-1.4.0-py3-none-any.whl size=5401 sha256=962a2c00a4c94613d0ea2a906de8938782d9027b23d6af213cea0bd3c407c6ca\n",
            "  Stored in directory: /root/.cache/pip/wheels/44/8f/aa/b5a167ff59dc658114901c0fbea4fc95bd646b7d18d1d38444\n",
            "  Building wheel for ujson (setup.py) ... \u001b[?25l\u001b[?25hdone\n",
            "  Created wheel for ujson: filename=ujson-1.35-cp38-cp38-linux_x86_64.whl size=81815 sha256=949f725033259f374b314d71b3a00e702904440d00735edb207b7f42a606099a\n",
            "  Stored in directory: /root/.cache/pip/wheels/1b/92/b2/df9c56805bf5ebf331fb1ad733d0d4fd32ee3405fd8d88ed09\n",
            "  Building wheel for albumentations (setup.py) ... \u001b[?25l\u001b[?25hdone\n",
            "  Created wheel for albumentations: filename=albumentations-0.4.6-py3-none-any.whl size=65182 sha256=d3ead69b25ef92d59d6d69f77a5cb6e255d2370503af36873b9946d5ccedd2e0\n",
            "  Stored in directory: /root/.cache/pip/wheels/d2/e3/0b/99a239413035502833a7b07283894243fddf5ce3aa720ca8dd\n",
            "  Building wheel for mmcv (setup.py) ... \u001b[?25l\u001b[?25hdone\n",
            "  Created wheel for mmcv: filename=mmcv-1.2.5-py2.py3-none-any.whl size=325740 sha256=1598c8e8f5b2abde6b5219dd360ff4f3cc602899c0e8c0164c74061cd8d88c99\n",
            "  Stored in directory: /root/.cache/pip/wheels/9c/84/ba/608e37b4b0abf89105f3e6e32282ea2e200f0d28b27bf46495\n",
            "Successfully built sklearn p-tqdm ujson albumentations mmcv\n",
            "Installing collected packages: tzdata, six, python-dateutil, pytz, pandas, sklearn, opencv-python, pytorch-warmup, PyWavelets, packaging, tifffile, scipy, imageio, networkx, lazy-loader, scikit-image, tqdm, p-tqdm, kiwisolver, zipp, importlib-resources, fonttools, cycler, contourpy, pyparsing, matplotlib, Shapely, imgaug, ujson, tomli, yapf, PyYAML, opencv-python-headless, albumentations, mmcv, pathspec\n",
            "  Attempting uninstall: scipy\n",
            "    Found existing installation: scipy 1.10.1\n",
            "    Uninstalling scipy-1.10.1:\n",
            "      Successfully uninstalled scipy-1.10.1\n",
            "Successfully installed PyWavelets-1.4.1 PyYAML-6.0 Shapely-1.7.0 albumentations-0.4.6 contourpy-1.0.7 cycler-0.11.0 fonttools-4.39.3 imageio-2.28.1 imgaug-0.4.0 importlib-resources-5.12.0 kiwisolver-1.4.4 lazy-loader-0.2 matplotlib-3.7.1 mmcv-1.2.5 networkx-3.1 opencv-python-4.7.0.72 opencv-python-headless-4.7.0.72 p-tqdm-1.4.0 packaging-23.1 pandas-2.0.1 pathspec-0.11.1 pyparsing-3.0.9 python-dateutil-2.8.2 pytorch-warmup-0.1.1 pytz-2023.3 scikit-image-0.20.0 scipy-1.9.1 six-1.16.0 sklearn-0.0.post4 tifffile-2023.4.12 tomli-2.0.1 tqdm-4.65.0 tzdata-2023.3 ujson-1.35 yapf-0.33.0 zipp-3.15.0\n"
          ]
        },
        {
          "output_type": "display_data",
          "data": {
            "application/vnd.colab-display-data+json": {
              "pip_warning": {
                "packages": [
                  "cycler",
                  "dateutil",
                  "kiwisolver",
                  "matplotlib",
                  "mpl_toolkits",
                  "six"
                ]
              }
            }
          },
          "metadata": {}
        }
      ]
    },
    {
      "cell_type": "code",
      "execution_count": 9,
      "metadata": {
        "colab": {
          "base_uri": "https://localhost:8080/"
        },
        "id": "KrIbJC59CPnu",
        "outputId": "e379492c-8889-4bf7-fafd-bbf35d25b01e"
      },
      "outputs": [
        {
          "output_type": "stream",
          "name": "stdout",
          "text": [
            "Looking in indexes: https://pypi.org/simple, https://us-python.pkg.dev/colab-wheels/public/simple/\n",
            "Looking in links: https://download.pytorch.org/whl/torch_stable.html\n",
            "Collecting torch==1.8.0+cu111\n",
            "  Downloading https://download.pytorch.org/whl/cu111/torch-1.8.0%2Bcu111-cp38-cp38-linux_x86_64.whl (1982.2 MB)\n",
            "\u001b[K     |████████████████████████████████| 1982.2 MB 5.7 kB/s \n",
            "\u001b[?25hCollecting torchvision==0.9.0+cu111\n",
            "  Downloading https://download.pytorch.org/whl/cu111/torchvision-0.9.0%2Bcu111-cp38-cp38-linux_x86_64.whl (17.6 MB)\n",
            "\u001b[K     |████████████████████████████████| 17.6 MB 41.7 MB/s \n",
            "\u001b[?25hCollecting torchaudio==0.8.0\n",
            "  Downloading torchaudio-0.8.0-cp38-cp38-manylinux1_x86_64.whl (1.9 MB)\n",
            "\u001b[K     |████████████████████████████████| 1.9 MB 4.7 MB/s \n",
            "\u001b[?25hRequirement already satisfied: numpy in /usr/local/lib/python3.8/dist-packages (from torch==1.8.0+cu111) (1.24.3)\n",
            "Collecting typing-extensions\n",
            "  Downloading typing_extensions-4.5.0-py3-none-any.whl (27 kB)\n",
            "Collecting pillow>=4.1.1\n",
            "  Downloading Pillow-9.5.0-cp38-cp38-manylinux_2_17_x86_64.manylinux2014_x86_64.whl (3.3 MB)\n",
            "\u001b[K     |████████████████████████████████| 3.3 MB 59.4 MB/s \n",
            "\u001b[?25hInstalling collected packages: typing-extensions, torch, pillow, torchvision, torchaudio\n",
            "Successfully installed pillow-9.5.0 torch-1.8.0+cu111 torchaudio-0.8.0 torchvision-0.9.0+cu111 typing-extensions-4.5.0\n"
          ]
        }
      ],
      "source": [
        "!pip install torch==1.8.0+cu111 torchvision==0.9.0+cu111 torchaudio==0.8.0 -f https://download.pytorch.org/whl/torch_stable.html"
      ]
    },
    {
      "cell_type": "code",
      "execution_count": 11,
      "metadata": {
        "colab": {
          "base_uri": "https://localhost:8080/"
        },
        "id": "Cj2o-s9LvRSP",
        "outputId": "00a638a0-a4ab-47fb-b9fa-c4fdefcad426"
      },
      "outputs": [
        {
          "output_type": "stream",
          "name": "stdout",
          "text": [
            "/usr/local/lib/python3.8/dist-packages/setuptools/__init__.py:84: _DeprecatedInstaller: setuptools.installer and fetch_build_eggs are deprecated.\n",
            "!!\n",
            "\n",
            "        ********************************************************************************\n",
            "        Requirements should be satisfied by a PEP 517 installer.\n",
            "        If you are using pip, you can try `pip install --use-pep517`.\n",
            "        ********************************************************************************\n",
            "\n",
            "!!\n",
            "  dist.fetch_build_eggs(dist.setup_requires)\n",
            "running build\n",
            "running build_py\n",
            "running egg_info\n",
            "writing lanedet.egg-info/PKG-INFO\n",
            "writing dependency_links to lanedet.egg-info/dependency_links.txt\n",
            "writing requirements to lanedet.egg-info/requires.txt\n",
            "writing top-level names to lanedet.egg-info/top_level.txt\n",
            "/usr/local/lib/python3.8/dist-packages/torch/utils/cpp_extension.py:369: UserWarning: Attempted to use ninja as the BuildExtension backend but we could not find ninja.. Falling back to using the slow distutils backend.\n",
            "  warnings.warn(msg.format('we could not find ninja.'))\n",
            "reading manifest file 'lanedet.egg-info/SOURCES.txt'\n",
            "adding license file 'LICENSE'\n",
            "writing manifest file 'lanedet.egg-info/SOURCES.txt'\n",
            "running build_ext\n",
            "running develop\n",
            "/usr/local/lib/python3.8/dist-packages/setuptools/command/develop.py:40: EasyInstallDeprecationWarning: easy_install command is deprecated.\n",
            "!!\n",
            "\n",
            "        ********************************************************************************\n",
            "        Please avoid running ``setup.py`` and ``easy_install``.\n",
            "        Instead, use pypa/build, pypa/installer, pypa/build or\n",
            "        other standards-based tools.\n",
            "\n",
            "        See https://github.com/pypa/setuptools/issues/917 for details.\n",
            "        ********************************************************************************\n",
            "\n",
            "!!\n",
            "  easy_install.initialize_options(self)\n",
            "/usr/lib/python3.8/distutils/cmd.py:62: SetuptoolsDeprecationWarning: setup.py install is deprecated.\n",
            "!!\n",
            "\n",
            "        ********************************************************************************\n",
            "        Please avoid running ``setup.py`` directly.\n",
            "        Instead, use pypa/build, pypa/installer, pypa/build or\n",
            "        other standards-based tools.\n",
            "\n",
            "        See https://blog.ganssle.io/articles/2021/10/setup-py-deprecated.html for details.\n",
            "        ********************************************************************************\n",
            "\n",
            "!!\n",
            "  self.initialize_options()\n",
            "running build_ext\n",
            "Creating /usr/local/lib/python3.8/dist-packages/lanedet.egg-link (link to .)\n",
            "Adding lanedet 1.0 to easy-install.pth file\n",
            "\n",
            "Installed /content/drive/MyDrive/SpecialProblems/LaneDetection/lanedet\n",
            "Processing dependencies for lanedet==1.0\n",
            "Searching for pathspec==0.11.1\n",
            "Best match: pathspec 0.11.1\n",
            "Adding pathspec 0.11.1 to easy-install.pth file\n",
            "\n",
            "Using /usr/local/lib/python3.8/dist-packages\n",
            "Searching for mmcv==1.2.5\n",
            "Best match: mmcv 1.2.5\n",
            "Adding mmcv 1.2.5 to easy-install.pth file\n",
            "\n",
            "Using /usr/local/lib/python3.8/dist-packages\n",
            "Searching for albumentations==0.4.6\n",
            "Best match: albumentations 0.4.6\n",
            "Adding albumentations 0.4.6 to easy-install.pth file\n",
            "\n",
            "Using /usr/local/lib/python3.8/dist-packages\n",
            "Searching for yapf==0.33.0\n",
            "Best match: yapf 0.33.0\n",
            "Adding yapf 0.33.0 to easy-install.pth file\n",
            "Installing yapf script to /usr/local/bin\n",
            "Installing yapf-diff script to /usr/local/bin\n",
            "\n",
            "Using /usr/local/lib/python3.8/dist-packages\n",
            "Searching for ujson==1.35\n",
            "Best match: ujson 1.35\n",
            "Adding ujson 1.35 to easy-install.pth file\n",
            "\n",
            "Using /usr/local/lib/python3.8/dist-packages\n",
            "Searching for Shapely==1.7.0\n",
            "Best match: Shapely 1.7.0\n",
            "Adding Shapely 1.7.0 to easy-install.pth file\n",
            "\n",
            "Using /usr/local/lib/python3.8/dist-packages\n",
            "Searching for imgaug==0.4.0\n",
            "Best match: imgaug 0.4.0\n",
            "Adding imgaug 0.4.0 to easy-install.pth file\n",
            "\n",
            "Using /usr/local/lib/python3.8/dist-packages\n",
            "Searching for p-tqdm==1.4.0\n",
            "Best match: p-tqdm 1.4.0\n",
            "Adding p-tqdm 1.4.0 to easy-install.pth file\n",
            "\n",
            "Using /usr/local/lib/python3.8/dist-packages\n",
            "Searching for tqdm==4.65.0\n",
            "Best match: tqdm 4.65.0\n",
            "Adding tqdm 4.65.0 to easy-install.pth file\n",
            "Installing tqdm script to /usr/local/bin\n",
            "\n",
            "Using /usr/local/lib/python3.8/dist-packages\n",
            "Searching for scikit-image==0.20.0\n",
            "Best match: scikit-image 0.20.0\n",
            "Adding scikit-image 0.20.0 to easy-install.pth file\n",
            "\n",
            "Using /usr/local/lib/python3.8/dist-packages\n",
            "Searching for pytorch-warmup==0.1.1\n",
            "Best match: pytorch-warmup 0.1.1\n",
            "Adding pytorch-warmup 0.1.1 to easy-install.pth file\n",
            "\n",
            "Using /usr/local/lib/python3.8/dist-packages\n",
            "Searching for opencv-python==4.7.0.72\n",
            "Best match: opencv-python 4.7.0.72\n",
            "Adding opencv-python 4.7.0.72 to easy-install.pth file\n",
            "\n",
            "Using /usr/local/lib/python3.8/dist-packages\n",
            "Searching for sklearn==0.0.post4\n",
            "Best match: sklearn 0.0.post4\n",
            "Adding sklearn 0.0.post4 to easy-install.pth file\n",
            "\n",
            "Using /usr/local/lib/python3.8/dist-packages\n",
            "Searching for addict==2.4.0\n",
            "Best match: addict 2.4.0\n",
            "Adding addict 2.4.0 to easy-install.pth file\n",
            "\n",
            "Using /usr/local/lib/python3.8/dist-packages\n",
            "Searching for pandas==2.0.1\n",
            "Best match: pandas 2.0.1\n",
            "Adding pandas 2.0.1 to easy-install.pth file\n",
            "\n",
            "Using /usr/local/lib/python3.8/dist-packages\n",
            "Searching for PyYAML==6.0\n",
            "Best match: PyYAML 6.0\n",
            "Adding PyYAML 6.0 to easy-install.pth file\n",
            "\n",
            "Using /usr/local/lib/python3.8/dist-packages\n",
            "Searching for Pillow==9.5.0\n",
            "Best match: Pillow 9.5.0\n",
            "Adding Pillow 9.5.0 to easy-install.pth file\n",
            "\n",
            "Using /usr/local/lib/python3.8/dist-packages\n",
            "Searching for numpy==1.24.3\n",
            "Best match: numpy 1.24.3\n",
            "Adding numpy 1.24.3 to easy-install.pth file\n",
            "Installing f2py script to /usr/local/bin\n",
            "Installing f2py3 script to /usr/local/bin\n",
            "Installing f2py3.8 script to /usr/local/bin\n",
            "\n",
            "Using /usr/local/lib/python3.8/dist-packages\n",
            "Searching for opencv-python-headless==4.7.0.72\n",
            "Best match: opencv-python-headless 4.7.0.72\n",
            "Adding opencv-python-headless 4.7.0.72 to easy-install.pth file\n",
            "\n",
            "Using /usr/local/lib/python3.8/dist-packages\n",
            "Searching for scipy==1.9.1\n",
            "Best match: scipy 1.9.1\n",
            "Adding scipy 1.9.1 to easy-install.pth file\n",
            "\n",
            "Using /usr/local/lib/python3.8/dist-packages\n",
            "Searching for tomli==2.0.1\n",
            "Best match: tomli 2.0.1\n",
            "Adding tomli 2.0.1 to easy-install.pth file\n",
            "\n",
            "Using /usr/local/lib/python3.8/dist-packages\n",
            "Searching for imageio==2.28.1\n",
            "Best match: imageio 2.28.1\n",
            "Adding imageio 2.28.1 to easy-install.pth file\n",
            "Installing imageio_download_bin script to /usr/local/bin\n",
            "Installing imageio_remove_bin script to /usr/local/bin\n",
            "\n",
            "Using /usr/local/lib/python3.8/dist-packages\n",
            "Searching for matplotlib==3.7.1\n",
            "Best match: matplotlib 3.7.1\n",
            "Adding matplotlib 3.7.1 to easy-install.pth file\n",
            "\n",
            "Using /usr/local/lib/python3.8/dist-packages\n",
            "Searching for six==1.16.0\n",
            "Best match: six 1.16.0\n",
            "Adding six 1.16.0 to easy-install.pth file\n",
            "\n",
            "Using /usr/local/lib/python3.8/dist-packages\n",
            "Searching for pathos==0.3.0\n",
            "Best match: pathos 0.3.0\n",
            "Adding pathos 0.3.0 to easy-install.pth file\n",
            "\n",
            "Using /usr/local/lib/python3.8/dist-packages\n",
            "Searching for lazy-loader==0.2\n",
            "Best match: lazy-loader 0.2\n",
            "Adding lazy-loader 0.2 to easy-install.pth file\n",
            "\n",
            "Using /usr/local/lib/python3.8/dist-packages\n",
            "Searching for packaging==23.1\n",
            "Best match: packaging 23.1\n",
            "Adding packaging 23.1 to easy-install.pth file\n",
            "\n",
            "Using /usr/local/lib/python3.8/dist-packages\n",
            "Searching for PyWavelets==1.4.1\n",
            "Best match: PyWavelets 1.4.1\n",
            "Adding PyWavelets 1.4.1 to easy-install.pth file\n",
            "\n",
            "Using /usr/local/lib/python3.8/dist-packages\n",
            "Searching for tifffile==2023.4.12\n",
            "Best match: tifffile 2023.4.12\n",
            "Adding tifffile 2023.4.12 to easy-install.pth file\n",
            "Installing lsm2bin script to /usr/local/bin\n",
            "Installing tiff2fsspec script to /usr/local/bin\n",
            "Installing tiffcomment script to /usr/local/bin\n",
            "Installing tifffile script to /usr/local/bin\n",
            "\n",
            "Using /usr/local/lib/python3.8/dist-packages\n",
            "Searching for networkx==3.1\n",
            "Best match: networkx 3.1\n",
            "Adding networkx 3.1 to easy-install.pth file\n",
            "\n",
            "Using /usr/local/lib/python3.8/dist-packages\n",
            "Searching for torch==1.8.0+cu111\n",
            "Best match: torch 1.8.0+cu111\n",
            "Adding torch 1.8.0+cu111 to easy-install.pth file\n",
            "Installing convert-caffe2-to-onnx script to /usr/local/bin\n",
            "Installing convert-onnx-to-caffe2 script to /usr/local/bin\n",
            "\n",
            "Using /usr/local/lib/python3.8/dist-packages\n",
            "Searching for tzdata==2023.3\n",
            "Best match: tzdata 2023.3\n",
            "Adding tzdata 2023.3 to easy-install.pth file\n",
            "\n",
            "Using /usr/local/lib/python3.8/dist-packages\n",
            "Searching for pytz==2023.3\n",
            "Best match: pytz 2023.3\n",
            "Adding pytz 2023.3 to easy-install.pth file\n",
            "\n",
            "Using /usr/local/lib/python3.8/dist-packages\n",
            "Searching for python-dateutil==2.8.2\n",
            "Best match: python-dateutil 2.8.2\n",
            "Adding python-dateutil 2.8.2 to easy-install.pth file\n",
            "\n",
            "Using /usr/local/lib/python3.8/dist-packages\n",
            "Searching for importlib-resources==5.12.0\n",
            "Best match: importlib-resources 5.12.0\n",
            "Adding importlib-resources 5.12.0 to easy-install.pth file\n",
            "\n",
            "Using /usr/local/lib/python3.8/dist-packages\n",
            "Searching for pyparsing==3.0.9\n",
            "Best match: pyparsing 3.0.9\n",
            "Adding pyparsing 3.0.9 to easy-install.pth file\n",
            "\n",
            "Using /usr/local/lib/python3.8/dist-packages\n",
            "Searching for kiwisolver==1.4.4\n",
            "Best match: kiwisolver 1.4.4\n",
            "Adding kiwisolver 1.4.4 to easy-install.pth file\n",
            "\n",
            "Using /usr/local/lib/python3.8/dist-packages\n",
            "Searching for fonttools==4.39.3\n",
            "Best match: fonttools 4.39.3\n",
            "Adding fonttools 4.39.3 to easy-install.pth file\n",
            "Installing fonttools script to /usr/local/bin\n",
            "Installing pyftmerge script to /usr/local/bin\n",
            "Installing pyftsubset script to /usr/local/bin\n",
            "Installing ttx script to /usr/local/bin\n",
            "\n",
            "Using /usr/local/lib/python3.8/dist-packages\n",
            "Searching for cycler==0.11.0\n",
            "Best match: cycler 0.11.0\n",
            "Adding cycler 0.11.0 to easy-install.pth file\n",
            "\n",
            "Using /usr/local/lib/python3.8/dist-packages\n",
            "Searching for contourpy==1.0.7\n",
            "Best match: contourpy 1.0.7\n",
            "Adding contourpy 1.0.7 to easy-install.pth file\n",
            "\n",
            "Using /usr/local/lib/python3.8/dist-packages\n",
            "Searching for multiprocess==0.70.14\n",
            "Best match: multiprocess 0.70.14\n",
            "Adding multiprocess 0.70.14 to easy-install.pth file\n",
            "\n",
            "Using /usr/local/lib/python3.8/dist-packages\n",
            "Searching for pox==0.3.2\n",
            "Best match: pox 0.3.2\n",
            "Adding pox 0.3.2 to easy-install.pth file\n",
            "\n",
            "Using /usr/local/lib/python3.8/dist-packages\n",
            "Searching for dill==0.3.6\n",
            "Best match: dill 0.3.6\n",
            "Adding dill 0.3.6 to easy-install.pth file\n",
            "\n",
            "Using /usr/local/lib/python3.8/dist-packages\n",
            "Searching for ppft==1.7.6.6\n",
            "Best match: ppft 1.7.6.6\n",
            "Adding ppft 1.7.6.6 to easy-install.pth file\n",
            "\n",
            "Using /usr/local/lib/python3.8/dist-packages\n",
            "Searching for typing-extensions==4.5.0\n",
            "Best match: typing-extensions 4.5.0\n",
            "Adding typing-extensions 4.5.0 to easy-install.pth file\n",
            "\n",
            "Using /usr/local/lib/python3.8/dist-packages\n",
            "Searching for zipp==3.15.0\n",
            "Best match: zipp 3.15.0\n",
            "Adding zipp 3.15.0 to easy-install.pth file\n",
            "\n",
            "Using /usr/local/lib/python3.8/dist-packages\n",
            "Finished processing dependencies for lanedet==1.0\n"
          ]
        }
      ],
      "source": [
        "!python setup.py build develop"
      ]
    },
    {
      "cell_type": "markdown",
      "source": [
        "#Perform Lane detection alone\n"
      ],
      "metadata": {
        "id": "hP8Z_eHZLbrO"
      }
    },
    {
      "cell_type": "markdown",
      "source": [
        "Either run the lane_track.py script or run the 2 cell blocks below it.\n"
      ],
      "metadata": {
        "id": "gd8tSJGSLnlB"
      }
    },
    {
      "cell_type": "code",
      "source": [
        "!python tools/lane_det.py"
      ],
      "metadata": {
        "colab": {
          "base_uri": "https://localhost:8080/"
        },
        "id": "toVlJdDG5bFq",
        "outputId": "4a10be31-9aa5-4fd7-86d8-b0a5ef49bb16"
      },
      "execution_count": 12,
      "outputs": [
        {
          "output_type": "stream",
          "name": "stdout",
          "text": [
            "Downloading: \"https://download.pytorch.org/models/resnet18-5c106cde.pth\" to /root/.cache/torch/hub/checkpoints/resnet18-5c106cde.pth\n",
            "100% 44.7M/44.7M [00:00<00:00, 175MB/s]\n",
            "OpenCV: FFMPEG: tag 0x5634504d/'MP4V' is not supported with codec id 12 and format 'mp4 / MP4 (MPEG-4 Part 14)'\n",
            "OpenCV: FFMPEG: fallback to use tag 0x7634706d/'mp4v'\n",
            "[INFO] elasped time: 167.28\n",
            "[INFO] approx. FPS: 10.87\n"
          ]
        }
      ]
    },
    {
      "cell_type": "code",
      "execution_count": null,
      "metadata": {
        "id": "JUPHvgs0MBbF"
      },
      "outputs": [],
      "source": [
        "import numpy as np\n",
        "import torch\n",
        "import cv2\n",
        "import os\n",
        "import os.path as osp\n",
        "import glob\n",
        "import argparse\n",
        "from lanedet.datasets.process import Process\n",
        "from lanedet.models.registry import build_net\n",
        "from lanedet.utils.config import Config\n",
        "from lanedet.utils.visualization import imshow_lanes\n",
        "from lanedet.utils.net_utils import load_network\n",
        "from pathlib import Path\n",
        "from tqdm import tqdm\n",
        "from imutils.video import FPS"
      ]
    },
    {
      "cell_type": "code",
      "source": [
        "class LaneDetect(object):\n",
        "    def __init__(self, cfg):\n",
        "        self.cfg = cfg\n",
        "        self.processes = Process(cfg.val_process, cfg)\n",
        "        self.net = build_net(self.cfg)\n",
        "        self.net = torch.nn.parallel.DataParallel(self.net, device_ids = range(1)).cuda()\n",
        "        self.net.eval()\n",
        "        load_network(self.net, self.cfg.load_from)\n",
        "\n",
        "\n",
        "    def preprocess(self, ori_img):\n",
        "        #ori_img=cv2.resize(ori_img,(1640,590))\n",
        "        img = ori_img[self.cfg.cut_height:, :, :].astype(np.float32)\n",
        "        data = {'img': img, 'lanes': []}\n",
        "        data = self.processes(data)\n",
        "        data['img'] = data['img'].unsqueeze(0)\n",
        "        data.update({'img_path':video_path, 'ori_img':ori_img})\n",
        "        return data\n",
        "\n",
        "    def inference(self, data):\n",
        "        with torch.no_grad():\n",
        "            data = self.net(data)\n",
        "            data = self.net.module.heads.get_lanes(data)\n",
        "\n",
        "        return data\n",
        "     \n",
        "\n",
        "lane_config='/content/drive/MyDrive/SpecialProblems/LaneDetection/lanedet/configs/resa/resa18_tusimple.py'\n",
        "lane_model_path='/content/drive/MyDrive/SpecialProblems/LaneDetection/lanedet/PreModels/resa_r18_tusimple.pth'\n",
        "#output_dir='/content/drive/MyDrive/SpecialProblems/VehicleProximity/waymoObjectDetection/results/_images/'\n",
        "lane_cfg = Config.fromfile(lane_config)\n",
        "\n",
        "lane_cfg.load_from = lane_model_path\n",
        "lane_detect = LaneDetect(lane_cfg)\n",
        "video_path = '/content/drive/MyDrive/SpecialProblems/VehicleProximity/waymoObjectDetection/data/data/rearCamCalibrated/2022-09-09_17-21-58-back_calibrated.mp4'\n",
        "res_path = '/content/drive/MyDrive/SpecialProblems/VehicleProximity/waymoObjectDetection/results/lane'\n",
        "lane_cfg.savedir = res_path\n",
        "cap = cv2.VideoCapture(video_path)\n",
        "frame_width = int(cap.get(3))\n",
        "frame_height = int(cap.get(4))\n",
        "fps = FPS().start()\n",
        "out = cv2.VideoWriter(res_path+'2022-09-09_17-21-58-back_calibrated.mp4', cv2.VideoWriter_fourcc('M','P','4','V'), 30, (frame_width,frame_height))\n",
        "currentframe = 0\n",
        "prev=[]\n",
        "while (cap.isOpened() and currentframe<2000):\n",
        "    ret, img = cap.read()\n",
        "    if len((np.array(img)).shape) == 0:\n",
        "        break\n",
        "    data = lane_detect.preprocess(img)\n",
        "    data['lanes'] = lane_detect.inference(data)[0]\n",
        "    lanes = [lane.to_array(lane_cfg) for lane in data['lanes']]\n",
        "    if not lanes:\n",
        "      lanes=prev\n",
        "    for lane in lanes:\n",
        "        for x, y in lane:\n",
        "            if x <= 0 or y <= 0:\n",
        "                continue\n",
        "            x, y = int(x), int(y)\n",
        "            cv2.circle(data['ori_img'], (x, y), 4, (255, 0, 0), 2)\n",
        "    prev=lanes\n",
        "    currentframe += 1\n",
        "    fps.update()\n",
        "    out.write(data['ori_img'])\n",
        "    \n",
        "fps.stop()\n",
        "print(\"[INFO] elasped time: {:.2f}\".format(fps.elapsed()))\n",
        "print(\"[INFO] approx. FPS: {:.2f}\".format(fps.fps()))\n",
        "cap.release()\n",
        "out.release()\n",
        "\n"
      ],
      "metadata": {
        "id": "WtwJ_yj7oPmc"
      },
      "execution_count": null,
      "outputs": []
    },
    {
      "cell_type": "markdown",
      "metadata": {
        "id": "bnT4JancHDDh"
      },
      "source": [
        "# det+track+lane\n"
      ]
    },
    {
      "cell_type": "code",
      "execution_count": 13,
      "metadata": {
        "colab": {
          "base_uri": "https://localhost:8080/"
        },
        "id": "AasAVJ3VUVU4",
        "outputId": "3e93bc20-0771-4b7a-e2ad-97dcf894f9b2"
      },
      "outputs": [
        {
          "output_type": "stream",
          "name": "stdout",
          "text": [
            "/content/drive/MyDrive/SpecialProblems/VehicleProximity/waymoObjectDetection\n"
          ]
        }
      ],
      "source": [
        "%cd /content/drive/MyDrive/SpecialProblems/VehicleProximity/waymoObjectDetection"
      ]
    },
    {
      "cell_type": "code",
      "execution_count": null,
      "metadata": {
        "id": "N9hmafGYUVHX"
      },
      "outputs": [],
      "source": [
        "%cd models/research\n",
        "# Compile protos.\n",
        "!protoc object_detection/protos/*.proto --python_out=.\n",
        "# Install TensorFlow Object Detection API.\n",
        "!cp object_detection/packages/tf2/setup.py .\n",
        "!python -m pip install ."
      ]
    },
    {
      "cell_type": "code",
      "source": [
        "!pip install absl-py\n",
        "!pip install albumentations==0.4.6\n",
        "!pip install Shapely==1.7.0"
      ],
      "metadata": {
        "colab": {
          "base_uri": "https://localhost:8080/"
        },
        "id": "39v3t5y1OJ2z",
        "outputId": "9da19ed5-20b2-4e85-e972-6e7555a804c2"
      },
      "execution_count": null,
      "outputs": [
        {
          "output_type": "stream",
          "name": "stdout",
          "text": [
            "Looking in indexes: https://pypi.org/simple, https://us-python.pkg.dev/colab-wheels/public/simple/\n",
            "Collecting absl-py\n",
            "  Downloading absl_py-1.4.0-py3-none-any.whl (126 kB)\n",
            "\u001b[K     |████████████████████████████████| 126 kB 5.3 MB/s \n",
            "\u001b[?25hInstalling collected packages: absl-py\n",
            "Successfully installed absl-py-1.4.0\n"
          ]
        }
      ]
    },
    {
      "cell_type": "code",
      "execution_count": null,
      "metadata": {
        "colab": {
          "base_uri": "https://localhost:8080/"
        },
        "id": "LLFfvElMUbBy",
        "outputId": "60d1da6c-3b4a-410c-c2de-5b4d0925ede2"
      },
      "outputs": [
        {
          "output_type": "stream",
          "name": "stdout",
          "text": [
            "Traceback (most recent call last):\n",
            "  File \"object_detection/builders/model_builder_tf2_test.py\", line 21, in <module>\n",
            "    import tensorflow.compat.v1 as tf\n",
            "ModuleNotFoundError: No module named 'tensorflow'\n"
          ]
        }
      ],
      "source": [
        "!python object_detection/builders/model_builder_tf2_test.py"
      ]
    },
    {
      "cell_type": "code",
      "execution_count": null,
      "metadata": {
        "id": "8CGhDcpgUdNP"
      },
      "outputs": [],
      "source": [
        "#importing necessary libraries\n",
        "import time\n",
        "import imageio\n",
        "import tensorflow as tf\n",
        "from object_detection.utils import visualization_utils as viz_utils\n",
        "from object_detection.utils import label_map_util\n"
      ]
    },
    {
      "cell_type": "code",
      "execution_count": null,
      "metadata": {
        "colab": {
          "base_uri": "https://localhost:8080/"
        },
        "id": "qIB4lHi3UfVk",
        "outputId": "18c07fed-eace-449f-f2a4-747a55ddd94b"
      },
      "outputs": [
        {
          "output_type": "stream",
          "name": "stderr",
          "text": [
            "WARNING:absl:Importing a function (__inference_EfficientDet-D4_layer_call_and_return_conditional_losses_181870) with ops with unsaved custom gradients. Will likely fail if a gradient is requested.\n",
            "WARNING:absl:Importing a function (__inference_EfficientDet-D4_layer_call_and_return_conditional_losses_189291) with ops with unsaved custom gradients. Will likely fail if a gradient is requested.\n",
            "WARNING:absl:Importing a function (__inference_EfficientDet-D4_layer_call_and_return_conditional_losses_162150) with ops with unsaved custom gradients. Will likely fail if a gradient is requested.\n",
            "WARNING:absl:Importing a function (__inference_call_func_30963) with ops with unsaved custom gradients. Will likely fail if a gradient is requested.\n",
            "WARNING:absl:Importing a function (__inference_call_func_150345) with ops with unsaved custom gradients. Will likely fail if a gradient is requested.\n",
            "WARNING:absl:Importing a function (__inference_bifpn_layer_call_and_return_conditional_losses_116472) with ops with unsaved custom gradients. Will likely fail if a gradient is requested.\n",
            "WARNING:absl:Importing a function (__inference_EfficientDet-D4_layer_call_and_return_conditional_losses_169571) with ops with unsaved custom gradients. Will likely fail if a gradient is requested.\n",
            "WARNING:absl:Importing a function (__inference_bifpn_layer_call_and_return_conditional_losses_120028) with ops with unsaved custom gradients. Will likely fail if a gradient is requested.\n"
          ]
        },
        {
          "output_type": "stream",
          "name": "stdout",
          "text": [
            "Elapsed time: 61.355982065200806s\n"
          ]
        }
      ],
      "source": [
        "#load the pretrained model\n",
        "start_time = time.time()\n",
        "tf.keras.backend.clear_session()\n",
        "detect_fn = tf.saved_model.load('/content/drive/MyDrive/SpecialProblems/VehicleProximity/waymoObjectDetection/exportmodel_waymo_v120_efficientdet_d4/saved_model')\n",
        "end_time = time.time()\n",
        "elapsed_time = end_time - start_time\n",
        "print('Elapsed time: ' + str(elapsed_time) + 's')"
      ]
    },
    {
      "cell_type": "code",
      "execution_count": null,
      "metadata": {
        "id": "C29Q509pUid1"
      },
      "outputs": [],
      "source": [
        "#load the label map for the dataset\n",
        "label_map_path='/content/drive/MyDrive/SpecialProblems/VehicleProximity/waymoObjectDetection/waymo_labelmap.txt'\n",
        "label_map = label_map_util.load_labelmap(label_map_path)\n",
        "categories = label_map_util.convert_label_map_to_categories(\n",
        "    label_map,\n",
        "    max_num_classes=label_map_util.get_max_label_map_index(label_map),\n",
        "    use_display_name=True)\n",
        "category_index = label_map_util.create_category_index(categories)\n",
        "label_map_dict = label_map_util.get_label_map_dict(label_map, use_display_name=True)"
      ]
    },
    {
      "cell_type": "code",
      "execution_count": null,
      "metadata": {
        "colab": {
          "base_uri": "https://localhost:8080/"
        },
        "id": "kUEPYHZJUkFx",
        "outputId": "3254d179-56af-4f29-87d7-abbc4acbc30f"
      },
      "outputs": [
        {
          "output_type": "stream",
          "name": "stdout",
          "text": [
            "/content/drive/MyDrive/SpecialProblems/VehicleProximity/waymoObjectDetection/diploma/tracking\n"
          ]
        }
      ],
      "source": [
        "%cd /content/drive/MyDrive/SpecialProblems/VehicleProximity/waymoObjectDetection/diploma/tracking"
      ]
    },
    {
      "cell_type": "code",
      "execution_count": null,
      "metadata": {
        "colab": {
          "base_uri": "https://localhost:8080/"
        },
        "id": "U-uuZsN3UmAB",
        "outputId": "dcac8389-cf6a-42c0-8a11-a7b1ae6c1ec7"
      },
      "outputs": [
        {
          "output_type": "stream",
          "name": "stdout",
          "text": [
            "Looking in indexes: https://pypi.org/simple, https://us-python.pkg.dev/colab-wheels/public/simple/\n",
            "Requirement already satisfied: numpy in /usr/local/lib/python3.9/dist-packages (1.23.5)\n",
            "Collecting numpy\n",
            "\u001b[31mERROR: Operation cancelled by user\u001b[0m\u001b[31m\n",
            "\u001b[0mLooking in indexes: https://pypi.org/simple, https://us-python.pkg.dev/colab-wheels/public/simple/\n",
            "Requirement already satisfied: tensorflow in /usr/local/lib/python3.9/dist-packages (2.12.0)\n",
            "Requirement already satisfied: google-pasta>=0.1.1 in /usr/local/lib/python3.9/dist-packages (from tensorflow) (0.2.0)\n",
            "Requirement already satisfied: setuptools in /usr/local/lib/python3.9/dist-packages (from tensorflow) (67.6.1)\n",
            "Requirement already satisfied: grpcio<2.0,>=1.24.3 in /usr/local/lib/python3.9/dist-packages (from tensorflow) (1.53.0)\n",
            "Requirement already satisfied: protobuf!=4.21.0,!=4.21.1,!=4.21.2,!=4.21.3,!=4.21.4,!=4.21.5,<5.0.0dev,>=3.20.3 in /usr/local/lib/python3.9/dist-packages (from tensorflow) (3.20.3)\n",
            "Requirement already satisfied: absl-py>=1.0.0 in /usr/local/lib/python3.9/dist-packages (from tensorflow) (1.4.0)\n",
            "Requirement already satisfied: keras<2.13,>=2.12.0 in /usr/local/lib/python3.9/dist-packages (from tensorflow) (2.12.0)\n",
            "Requirement already satisfied: tensorboard<2.13,>=2.12 in /usr/local/lib/python3.9/dist-packages (from tensorflow) (2.12.2)\n",
            "Requirement already satisfied: libclang>=13.0.0 in /usr/local/lib/python3.9/dist-packages (from tensorflow) (16.0.0)\n",
            "Requirement already satisfied: numpy<1.24,>=1.22 in /usr/local/lib/python3.9/dist-packages (from tensorflow) (1.23.5)\n",
            "Requirement already satisfied: packaging in /usr/local/lib/python3.9/dist-packages (from tensorflow) (23.1)\n",
            "Requirement already satisfied: gast<=0.4.0,>=0.2.1 in /usr/local/lib/python3.9/dist-packages (from tensorflow) (0.4.0)\n",
            "Requirement already satisfied: flatbuffers>=2.0 in /usr/local/lib/python3.9/dist-packages (from tensorflow) (23.3.3)\n",
            "Requirement already satisfied: wrapt<1.15,>=1.11.0 in /usr/local/lib/python3.9/dist-packages (from tensorflow) (1.14.1)\n",
            "Requirement already satisfied: tensorflow-io-gcs-filesystem>=0.23.1 in /usr/local/lib/python3.9/dist-packages (from tensorflow) (0.32.0)\n",
            "Requirement already satisfied: astunparse>=1.6.0 in /usr/local/lib/python3.9/dist-packages (from tensorflow) (1.6.3)\n",
            "Requirement already satisfied: typing-extensions>=3.6.6 in /usr/local/lib/python3.9/dist-packages (from tensorflow) (4.5.0)\n",
            "Requirement already satisfied: tensorflow-estimator<2.13,>=2.12.0 in /usr/local/lib/python3.9/dist-packages (from tensorflow) (2.12.0)\n",
            "Requirement already satisfied: h5py>=2.9.0 in /usr/local/lib/python3.9/dist-packages (from tensorflow) (3.8.0)\n",
            "Requirement already satisfied: termcolor>=1.1.0 in /usr/local/lib/python3.9/dist-packages (from tensorflow) (2.2.0)\n",
            "Requirement already satisfied: jax>=0.3.15 in /usr/local/lib/python3.9/dist-packages (from tensorflow) (0.4.8)\n",
            "Requirement already satisfied: six>=1.12.0 in /usr/local/lib/python3.9/dist-packages (from tensorflow) (1.16.0)\n",
            "Requirement already satisfied: opt-einsum>=2.3.2 in /usr/local/lib/python3.9/dist-packages (from tensorflow) (3.3.0)\n",
            "Requirement already satisfied: wheel<1.0,>=0.23.0 in /usr/local/lib/python3.9/dist-packages (from astunparse>=1.6.0->tensorflow) (0.40.0)\n",
            "Requirement already satisfied: scipy>=1.7 in /usr/local/lib/python3.9/dist-packages (from jax>=0.3.15->tensorflow) (1.10.1)\n",
            "Requirement already satisfied: ml-dtypes>=0.0.3 in /usr/local/lib/python3.9/dist-packages (from jax>=0.3.15->tensorflow) (0.1.0)\n",
            "Requirement already satisfied: tensorboard-plugin-wit>=1.6.0 in /usr/local/lib/python3.9/dist-packages (from tensorboard<2.13,>=2.12->tensorflow) (1.8.1)\n",
            "Requirement already satisfied: tensorboard-data-server<0.8.0,>=0.7.0 in /usr/local/lib/python3.9/dist-packages (from tensorboard<2.13,>=2.12->tensorflow) (0.7.0)\n",
            "Requirement already satisfied: werkzeug>=1.0.1 in /usr/local/lib/python3.9/dist-packages (from tensorboard<2.13,>=2.12->tensorflow) (2.2.3)\n",
            "Requirement already satisfied: markdown>=2.6.8 in /usr/local/lib/python3.9/dist-packages (from tensorboard<2.13,>=2.12->tensorflow) (3.4.3)\n",
            "Requirement already satisfied: google-auth-oauthlib<1.1,>=0.5 in /usr/local/lib/python3.9/dist-packages (from tensorboard<2.13,>=2.12->tensorflow) (1.0.0)\n",
            "Requirement already satisfied: google-auth<3,>=1.6.3 in /usr/local/lib/python3.9/dist-packages (from tensorboard<2.13,>=2.12->tensorflow) (2.17.3)\n",
            "Requirement already satisfied: requests<3,>=2.21.0 in /usr/local/lib/python3.9/dist-packages (from tensorboard<2.13,>=2.12->tensorflow) (2.27.1)\n",
            "Requirement already satisfied: cachetools<6.0,>=2.0.0 in /usr/local/lib/python3.9/dist-packages (from google-auth<3,>=1.6.3->tensorboard<2.13,>=2.12->tensorflow) (5.3.0)\n",
            "Requirement already satisfied: rsa<5,>=3.1.4 in /usr/local/lib/python3.9/dist-packages (from google-auth<3,>=1.6.3->tensorboard<2.13,>=2.12->tensorflow) (4.9)\n",
            "Requirement already satisfied: pyasn1-modules>=0.2.1 in /usr/local/lib/python3.9/dist-packages (from google-auth<3,>=1.6.3->tensorboard<2.13,>=2.12->tensorflow) (0.2.8)\n",
            "Requirement already satisfied: requests-oauthlib>=0.7.0 in /usr/local/lib/python3.9/dist-packages (from google-auth-oauthlib<1.1,>=0.5->tensorboard<2.13,>=2.12->tensorflow) (1.3.1)\n",
            "Requirement already satisfied: importlib-metadata>=4.4 in /usr/local/lib/python3.9/dist-packages (from markdown>=2.6.8->tensorboard<2.13,>=2.12->tensorflow) (6.4.1)\n",
            "Requirement already satisfied: certifi>=2017.4.17 in /usr/local/lib/python3.9/dist-packages (from requests<3,>=2.21.0->tensorboard<2.13,>=2.12->tensorflow) (2022.12.7)\n",
            "Requirement already satisfied: charset-normalizer~=2.0.0 in /usr/local/lib/python3.9/dist-packages (from requests<3,>=2.21.0->tensorboard<2.13,>=2.12->tensorflow) (2.0.12)\n",
            "Requirement already satisfied: urllib3<1.27,>=1.21.1 in /usr/local/lib/python3.9/dist-packages (from requests<3,>=2.21.0->tensorboard<2.13,>=2.12->tensorflow) (1.26.15)\n",
            "Requirement already satisfied: idna<4,>=2.5 in /usr/local/lib/python3.9/dist-packages (from requests<3,>=2.21.0->tensorboard<2.13,>=2.12->tensorflow) (3.4)\n",
            "Requirement already satisfied: MarkupSafe>=2.1.1 in /usr/local/lib/python3.9/dist-packages (from werkzeug>=1.0.1->tensorboard<2.13,>=2.12->tensorflow) (2.1.2)\n",
            "Requirement already satisfied: zipp>=0.5 in /usr/local/lib/python3.9/dist-packages (from importlib-metadata>=4.4->markdown>=2.6.8->tensorboard<2.13,>=2.12->tensorflow) (3.15.0)\n",
            "Requirement already satisfied: pyasn1<0.5.0,>=0.4.6 in /usr/local/lib/python3.9/dist-packages (from pyasn1-modules>=0.2.1->google-auth<3,>=1.6.3->tensorboard<2.13,>=2.12->tensorflow) (0.4.8)\n",
            "Requirement already satisfied: oauthlib>=3.0.0 in /usr/local/lib/python3.9/dist-packages (from requests-oauthlib>=0.7.0->google-auth-oauthlib<1.1,>=0.5->tensorboard<2.13,>=2.12->tensorflow) (3.2.2)\n"
          ]
        }
      ],
      "source": [
        "#to resolve the numpy compiled against different versions error when you import Tracker\n",
        "!pip install --upgrade numpy\n",
        "!pip install --upgrade tensorflow"
      ]
    },
    {
      "cell_type": "code",
      "execution_count": null,
      "metadata": {
        "id": "tUt8A5PSUo2f"
      },
      "outputs": [],
      "source": [
        "from utils.tracker import Tracker\n",
        "import datetime\n",
        "import six"
      ]
    },
    {
      "cell_type": "code",
      "execution_count": null,
      "metadata": {
        "id": "8l7Z_xijUzWo"
      },
      "outputs": [],
      "source": [
        "class LaneDetect(object):\n",
        "    def __init__(self, cfg):\n",
        "        self.cfg = cfg\n",
        "        '''\n",
        "        self.net = build_net(self.cfg)\n",
        "        self.net = torch.nn.parallel.DataParallel(\n",
        "                self.net, device_ids = range(1)).cuda()\n",
        "        self.net.eval()\n",
        "        load_network(self.net, self.cfg.load_from)'''\n",
        "        self.processes = Process(cfg.val_process, cfg)\n",
        "        self.net = build_net(self.cfg)\n",
        "        self.net = torch.nn.parallel.DataParallel(self.net, device_ids = range(1)).cuda()\n",
        "        self.net.eval()\n",
        "        load_network(self.net, self.cfg.load_from)\n",
        "\n",
        "\n",
        "    def preprocess(self, ori_img):\n",
        "        img = ori_img[self.cfg.cut_height:, :, :].astype(np.float32)\n",
        "        data = {'img': img, 'lanes': []}\n",
        "        data = self.processes(data)\n",
        "        data['img'] = data['img'].unsqueeze(0)\n",
        "        data.update({'img_path':directory, 'ori_img':ori_img})\n",
        "        return data\n",
        "\n",
        "    def inference(self, data):\n",
        "        with torch.no_grad():\n",
        "            data = self.net(data)\n",
        "            data = self.net.module.heads.get_lanes(data)\n",
        "\n",
        "        return data\n",
        "     \n"
      ]
    },
    {
      "cell_type": "code",
      "execution_count": null,
      "metadata": {
        "colab": {
          "base_uri": "https://localhost:8080/",
          "height": 1000
        },
        "id": "Q6fkwb5DUq4K",
        "outputId": "fbc46897-78fa-44c7-9c8b-cc8d883d44c7"
      },
      "outputs": [
        {
          "output_type": "stream",
          "name": "stdout",
          "text": [
            "16.56441 14.11042\n",
            "Warning Velocity = 265.031 km/hr\n",
            "The Velocity = 63.302 km/hr\n",
            "13.60648 14.65313\n",
            "Warning Velocity = 113.038 km/hr\n",
            "7.47022 13.60648\n",
            "Warning Velocity = 662.716 km/hr\n",
            "The Velocity = 47.294 km/hr\n",
            "The Velocity = 36.671 km/hr\n",
            "The Velocity = 29.264 km/hr\n",
            "The Velocity = 48.983 km/hr\n",
            "The Velocity = 54.139 km/hr\n",
            "12.28972 7.61963\n",
            "Warning Velocity = 504.370 km/hr\n",
            "The Velocity = 36.671 km/hr\n",
            "The Velocity = 59.689 km/hr\n",
            "The Velocity = 18.239 km/hr\n",
            "The Velocity = 77.751 km/hr\n",
            "The Velocity = 10.534 km/hr\n",
            "The Velocity = 6.850 km/hr\n",
            "The Velocity = 7.829 km/hr\n",
            "The Velocity = 26.249 km/hr\n",
            "7.93711 25.39876\n",
            "Warning Velocity = 1885.858 km/hr\n",
            "The Velocity = 14.377 km/hr\n",
            "The Velocity = 18.239 km/hr\n",
            "The Velocity = 19.031 km/hr\n",
            "9.07099 8.10599\n",
            "Warning Velocity = 104.220 km/hr\n",
            "The Velocity = 26.375 km/hr\n",
            "The Velocity = 47.294 km/hr\n",
            "25.39876 13.13729\n",
            "Warning Velocity = 1324.239 km/hr\n",
            "20.05165 25.39876\n",
            "Warning Velocity = 577.488 km/hr\n",
            "11.90567 12.69938\n",
            "Warning Velocity = 85.721 km/hr\n",
            "13.13729 14.11042\n",
            "Warning Velocity = 105.098 km/hr\n",
            "The Velocity = 50.673 km/hr\n",
            "23.81134 13.13729\n",
            "Warning Velocity = 1152.797 km/hr\n",
            "The Velocity = 36.671 km/hr\n",
            "The Velocity = 38.964 km/hr\n",
            "13.60648 11.90567\n",
            "Warning Velocity = 183.687 km/hr\n",
            "14.65313 13.60648\n",
            "Warning Velocity = 113.038 km/hr\n",
            "The Velocity = 74.539 km/hr\n",
            "19.04907 15.87423\n",
            "Warning Velocity = 342.883 km/hr\n",
            "15.23926 19.04907\n",
            "Warning Velocity = 411.459 km/hr\n",
            "The Velocity = 74.539 km/hr\n",
            "18.14197 17.31734\n",
            "Warning Velocity = 89.060 km/hr\n",
            "[INFO] elasped time: 477.34\n",
            "[INFO] approx. FPS: 4.19\n",
            "The Velocity = 68.577 km/hr\n",
            "The Velocity = 68.577 km/hr\n",
            "13.13729 14.11042\n",
            "Warning Velocity = 105.098 km/hr\n",
            "The Velocity = 47.294 km/hr\n",
            "The Velocity = 68.577 km/hr\n",
            "21.16563 10.29679\n",
            "Warning Velocity = 1173.835 km/hr\n",
            "10.02583 21.16563\n",
            "Warning Velocity = 1203.098 km/hr\n",
            "The Velocity = 67.232 km/hr\n",
            "The Velocity = 29.264 km/hr\n",
            "12.28972 13.13729\n",
            "Warning Velocity = 91.538 km/hr\n",
            "14.65313 13.60648\n",
            "Warning Velocity = 113.038 km/hr\n",
            "18.14197 17.31734\n",
            "Warning Velocity = 89.060 km/hr\n",
            "20.05165 16.56441\n",
            "Warning Velocity = 376.622 km/hr\n",
            "18.14197 19.04907\n",
            "Warning Velocity = 97.967 km/hr\n"
          ]
        },
        {
          "output_type": "error",
          "ename": "KeyboardInterrupt",
          "evalue": "ignored",
          "traceback": [
            "\u001b[0;31m---------------------------------------------------------------------------\u001b[0m",
            "\u001b[0;31mKeyboardInterrupt\u001b[0m                         Traceback (most recent call last)",
            "\u001b[0;32m<ipython-input-15-4f34b22bd897>\u001b[0m in \u001b[0;36m<cell line: 18>\u001b[0;34m()\u001b[0m\n\u001b[1;32m     38\u001b[0m                 \u001b[0;32mbreak\u001b[0m\u001b[0;34m\u001b[0m\u001b[0;34m\u001b[0m\u001b[0m\n\u001b[1;32m     39\u001b[0m             \u001b[0;31m#perform lane detection\u001b[0m\u001b[0;34m\u001b[0m\u001b[0;34m\u001b[0m\u001b[0m\n\u001b[0;32m---> 40\u001b[0;31m             \u001b[0mdata\u001b[0m \u001b[0;34m=\u001b[0m \u001b[0mlane_detect\u001b[0m\u001b[0;34m.\u001b[0m\u001b[0mpreprocess\u001b[0m\u001b[0;34m(\u001b[0m\u001b[0mimage_np\u001b[0m\u001b[0;34m)\u001b[0m\u001b[0;34m\u001b[0m\u001b[0;34m\u001b[0m\u001b[0m\n\u001b[0m\u001b[1;32m     41\u001b[0m             \u001b[0mdata\u001b[0m\u001b[0;34m[\u001b[0m\u001b[0;34m'lanes'\u001b[0m\u001b[0;34m]\u001b[0m \u001b[0;34m=\u001b[0m \u001b[0mlane_detect\u001b[0m\u001b[0;34m.\u001b[0m\u001b[0minference\u001b[0m\u001b[0;34m(\u001b[0m\u001b[0mdata\u001b[0m\u001b[0;34m)\u001b[0m\u001b[0;34m[\u001b[0m\u001b[0;36m0\u001b[0m\u001b[0;34m]\u001b[0m\u001b[0;34m\u001b[0m\u001b[0;34m\u001b[0m\u001b[0m\n\u001b[1;32m     42\u001b[0m             \u001b[0mlanes\u001b[0m \u001b[0;34m=\u001b[0m \u001b[0;34m[\u001b[0m\u001b[0mlane\u001b[0m\u001b[0;34m.\u001b[0m\u001b[0mto_array\u001b[0m\u001b[0;34m(\u001b[0m\u001b[0mlane_cfg\u001b[0m\u001b[0;34m)\u001b[0m \u001b[0;32mfor\u001b[0m \u001b[0mlane\u001b[0m \u001b[0;32min\u001b[0m \u001b[0mdata\u001b[0m\u001b[0;34m[\u001b[0m\u001b[0;34m'lanes'\u001b[0m\u001b[0;34m]\u001b[0m\u001b[0;34m]\u001b[0m\u001b[0;34m\u001b[0m\u001b[0;34m\u001b[0m\u001b[0m\n",
            "\u001b[0;32m<ipython-input-11-f2cff2886213>\u001b[0m in \u001b[0;36mpreprocess\u001b[0;34m(self, ori_img)\u001b[0m\n\u001b[1;32m     16\u001b[0m \u001b[0;34m\u001b[0m\u001b[0m\n\u001b[1;32m     17\u001b[0m     \u001b[0;32mdef\u001b[0m \u001b[0mpreprocess\u001b[0m\u001b[0;34m(\u001b[0m\u001b[0mself\u001b[0m\u001b[0;34m,\u001b[0m \u001b[0mori_img\u001b[0m\u001b[0;34m)\u001b[0m\u001b[0;34m:\u001b[0m\u001b[0;34m\u001b[0m\u001b[0;34m\u001b[0m\u001b[0m\n\u001b[0;32m---> 18\u001b[0;31m         \u001b[0mori_img\u001b[0m\u001b[0;34m=\u001b[0m\u001b[0mcv2\u001b[0m\u001b[0;34m.\u001b[0m\u001b[0mresize\u001b[0m\u001b[0;34m(\u001b[0m\u001b[0mori_img\u001b[0m\u001b[0;34m,\u001b[0m\u001b[0;34m(\u001b[0m\u001b[0;36m1640\u001b[0m\u001b[0;34m,\u001b[0m\u001b[0;36m590\u001b[0m\u001b[0;34m)\u001b[0m\u001b[0;34m)\u001b[0m\u001b[0;34m\u001b[0m\u001b[0;34m\u001b[0m\u001b[0m\n\u001b[0m\u001b[1;32m     19\u001b[0m         \u001b[0mimg\u001b[0m \u001b[0;34m=\u001b[0m \u001b[0mori_img\u001b[0m\u001b[0;34m[\u001b[0m\u001b[0mself\u001b[0m\u001b[0;34m.\u001b[0m\u001b[0mcfg\u001b[0m\u001b[0;34m.\u001b[0m\u001b[0mcut_height\u001b[0m\u001b[0;34m:\u001b[0m\u001b[0;34m,\u001b[0m \u001b[0;34m:\u001b[0m\u001b[0;34m,\u001b[0m \u001b[0;34m:\u001b[0m\u001b[0;34m]\u001b[0m\u001b[0;34m.\u001b[0m\u001b[0mastype\u001b[0m\u001b[0;34m(\u001b[0m\u001b[0mnp\u001b[0m\u001b[0;34m.\u001b[0m\u001b[0mfloat32\u001b[0m\u001b[0;34m)\u001b[0m\u001b[0;34m\u001b[0m\u001b[0;34m\u001b[0m\u001b[0m\n\u001b[1;32m     20\u001b[0m         \u001b[0mdata\u001b[0m \u001b[0;34m=\u001b[0m \u001b[0;34m{\u001b[0m\u001b[0;34m'img'\u001b[0m\u001b[0;34m:\u001b[0m \u001b[0mimg\u001b[0m\u001b[0;34m,\u001b[0m \u001b[0;34m'lanes'\u001b[0m\u001b[0;34m:\u001b[0m \u001b[0;34m[\u001b[0m\u001b[0;34m]\u001b[0m\u001b[0;34m}\u001b[0m\u001b[0;34m\u001b[0m\u001b[0;34m\u001b[0m\u001b[0m\n",
            "\u001b[0;31mKeyboardInterrupt\u001b[0m: "
          ]
        }
      ],
      "source": [
        "#testing on videos\n",
        "directory = '/content/drive/MyDrive/SpecialProblems/VehicleProximity/waymoObjectDetection/data/data/rearCamCalibrated/'\n",
        "lane_config='/content/drive/MyDrive/SpecialProblems/LaneDetection/lanedet/configs/condlane/resnet101_culane.py'\n",
        "lane_model_path='/content/drive/MyDrive/SpecialProblems/LaneDetection/lanedet/PreModels/condlane_r101_culane.pth'\n",
        "\n",
        "# initialize tracker\n",
        "non_active_threshold = 15\n",
        "active_threshold = 8\n",
        "tracker = Tracker(active_threshold=active_threshold, non_active_threshold=non_active_threshold)\n",
        "output_dir = '/content/drive/MyDrive/SpecialProblems/VehicleProximity/waymoObjectDetection/results/RearCamCalibratedLane/'\n",
        "lane_cfg = Config.fromfile(lane_config)\n",
        "lane_cfg.savedir = output_dir\n",
        "lane_cfg.load_from = lane_model_path\n",
        "lane_detect = LaneDetect(lane_cfg)\n",
        "prev_dist=0\n",
        "prev_id = []\n",
        "\n",
        "for filename in os.listdir(directory):\n",
        "    f = os.path.join(directory, filename)\n",
        "    # checking if it is a file\n",
        "    if os.path.isfile(f):\n",
        "        output_video_path = f\n",
        "        #open the video\n",
        "        cap = cv2.VideoCapture(output_video_path)\n",
        "        frame_width = int(cap.get(3))\n",
        "        frame_height = int(cap.get(4))\n",
        "\n",
        "        fps = FPS().start()\n",
        "\n",
        "        #set up the object for writing the created output video\n",
        "        res_path = '/content/drive/MyDrive/SpecialProblems/VehicleProximity/waymoObjectDetection/results/RearCamCalibratedLane/'\n",
        "        out = cv2.VideoWriter(res_path+filename, cv2.VideoWriter_fourcc('M','P','4','V'), 30, (frame_width,frame_height))\n",
        "\n",
        "        currentframe = 0\n",
        "        while (cap.isOpened() and currentframe<2000):\n",
        "            ret, image_np = cap.read()\n",
        "            if len((np.array(image_np)).shape) == 0:\n",
        "                break\n",
        "            #perform lane detection\n",
        "            data = lane_detect.preprocess(image_np)\n",
        "            data['lanes'] = lane_detect.inference(data)[0]\n",
        "            lanes = [lane.to_array(lane_cfg) for lane in data['lanes']]\n",
        "            if not lanes:\n",
        "              lanes=prev\n",
        "            for lane in lanes:\n",
        "                for x, y in lane:\n",
        "                    if x <= 0 or y <= 0:\n",
        "                        continue\n",
        "                    x, y = int(x), int(y)\n",
        "                    cv2.circle(data['ori_img'], (x, y), 4, (255, 0, 0), 2)\n",
        "                   \n",
        "            prev=lanes\n",
        "            input_tensor = np.expand_dims(data['ori_img'], 0)\n",
        "\n",
        "            #get the vehicle detections\n",
        "            detections = detect_fn(input_tensor)        \n",
        "            label_id_offset = 1\n",
        "\n",
        "            #create a copy of the input image to write to the output\n",
        "            image_np_with_detections = data['ori_img'].copy()\n",
        "\n",
        "            #writing the detections onto the image\n",
        "            #first we need to get the boxes that are actually used\n",
        "            boxes = detections['detection_boxes'][0].numpy()\n",
        "            # get all boxes from an array\n",
        "            max_boxes_to_draw = boxes.shape[0]\n",
        "            # get scores to get a threshold\n",
        "            scores = detections['detection_scores'][0].numpy()\n",
        "            min_score_thresh=.5\n",
        "            output_boxes=[]\n",
        "            output_scores=[]\n",
        "            output_classes=[]\n",
        "\n",
        "             # iterate over all objects found\n",
        "            for i in range(min(max_boxes_to_draw, boxes.shape[0])):                \n",
        "                if scores[i] > min_score_thresh:\n",
        "                    # boxes[i] is the box which will be drawn        \n",
        "                    ymin, xmin, ymax, xmax = boxes[i]\n",
        "\n",
        "                    #converting from xywh to xyxy\n",
        "                    left = xmin * frame_width\n",
        "                    top = ymin * frame_height\n",
        "                    right = xmax * frame_width\n",
        "                    bottom = ymax * frame_height\n",
        "                    output_boxes.append((int(left),int(top),int(right),int(bottom)))\n",
        "                    output_classes.append(detections['detection_classes'][0][i].numpy().astype(np.int32))\n",
        "                    output_scores.append(scores[i])\n",
        "\n",
        "            #update the tracker        \n",
        "            objects, tracked_classes = tracker.update(output_boxes, output_classes)            \n",
        "            ids = {}\n",
        "\n",
        "            #visualisation\n",
        "            for i,(object_id, centroid) in enumerate(objects.items()):\n",
        "              text = \"id{}\".format(object_id)\n",
        "              class_name = str(category_index[tracked_classes[object_id]]['name'])\n",
        "              f = 250 #focal length of the camera\n",
        "\n",
        "              #assumptions are made about the original height of the object so that the distance between the camera and the object can be calculated\n",
        "              if class_name == 'vehicle':\n",
        "                color = (255,255,0)\n",
        "                original_height = 60\n",
        "              elif class_name == 'pedestrian':\n",
        "                color = (0,255,255)\n",
        "                original_height = 63\n",
        "              else:\n",
        "                color = (255,0,255)\n",
        "                original_height = 60\n",
        "\n",
        "              #distance estimation\n",
        "              dist = (original_height * f)/ (centroid[3] - centroid[1])\n",
        "              dist = round(dist/(12*3.281),5)\n",
        "\n",
        "              #to mark the vehicles coming too close, set the bbox colour to red\n",
        "              if dist<=5:\n",
        "                color = (0,0,255)\n",
        "              \n",
        "              if object_id in prev_id.keys():\n",
        "                #define the region of interest (center of the frame) and if the vehicle lies between that then calculate its velocity and visualise its bbox in a different colour\n",
        "                midx = (centroid[0] + centroid[2])//2\n",
        "                if midx>150 and midx<350:\n",
        "                  color = (0,255,0)\n",
        "                  #check if this object has been tracked in the prev frame, if it has then retrieve that distance and estimate its velocity\n",
        "                  if prev_id[object_id] !=0 and currentframe%25==0:\n",
        "                    velo = abs((prev_id[object_id] - dist)) * 25 * 3.6 #assuming FPS is 25                  \n",
        "                    \n",
        "                    if velo > 80:\n",
        "                      init_text = 'Warning'\n",
        "                    else:\n",
        "                      init_text = 'The'\n",
        "                    if velo!=0:\n",
        "                      print(f'{init_text} Velocity = {velo:.3f} km/hr')\n",
        "                    prev_dist = dist\n",
        "              ids[object_id]=dist \n",
        "\n",
        "              cv2.rectangle(image_np_with_detections, (centroid[0], centroid[1]), (centroid[2], centroid[3]), color, 2)\n",
        "              cv2.rectangle(image_np_with_detections, (centroid[0], centroid[1]-30), (centroid[0]+(len(class_name))*3, centroid[1]), color, -1)\n",
        "              cv2.putText(image_np_with_detections, class_name[0]+\"-\"+str(round(dist,2))+\"m \",(centroid[0], centroid[1]-10),0, 0.75, (255,255,255),2)\n",
        "              cv2.putText(image_np_with_detections, text,(centroid[2], centroid[3]),0, 0.75, (255,255,255),2)         \n",
        "              cv2.circle(image_np_with_detections, (centroid[0], centroid[1]), 4, (0, 255, 0), -1)\n",
        "\n",
        "            prev_id = ids\n",
        "\n",
        "            currentframe += 1\n",
        "            fps.update()\n",
        "            out.write(image_np_with_detections)\n",
        "            \n",
        "        fps.stop()\n",
        "        print(\"[INFO] elasped time: {:.2f}\".format(fps.elapsed()))\n",
        "        print(\"[INFO] approx. FPS: {:.2f}\".format(fps.fps()))\n",
        "        cap.release()\n",
        "        out.release()"
      ]
    }
  ],
  "metadata": {
    "accelerator": "GPU",
    "colab": {
      "collapsed_sections": [
        "ofhUcV4hC5_l"
      ],
      "provenance": []
    },
    "gpuClass": "standard",
    "kernelspec": {
      "display_name": "Python 3",
      "name": "python3"
    },
    "language_info": {
      "name": "python"
    }
  },
  "nbformat": 4,
  "nbformat_minor": 0
}